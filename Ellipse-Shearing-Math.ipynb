{
 "cells": [
  {
   "cell_type": "markdown",
   "id": "17ac2dc2",
   "metadata": {},
   "source": [
    "## Setup"
   ]
  },
  {
   "cell_type": "code",
   "execution_count": null,
   "id": "e0e6e854",
   "metadata": {},
   "outputs": [],
   "source": [
    "import sympy"
   ]
  },
  {
   "cell_type": "code",
   "execution_count": null,
   "id": "71307041",
   "metadata": {},
   "outputs": [],
   "source": [
    "x,y = sympy.symbols('x y')\n",
    "a,b = sympy.symbols('a b')"
   ]
  },
  {
   "cell_type": "code",
   "execution_count": null,
   "id": "f3094858",
   "metadata": {},
   "outputs": [],
   "source": [
    "ellipse_eq = (x/a)**2 + (y/b)**2 -1\n",
    "ellipse_eq"
   ]
  },
  {
   "cell_type": "code",
   "execution_count": null,
   "id": "a654148c",
   "metadata": {},
   "outputs": [],
   "source": [
    "pos_vec = sympy.Matrix([\n",
    "    [x],\n",
    "    [y]\n",
    "])\n",
    "pos_vec"
   ]
  },
  {
   "cell_type": "markdown",
   "id": "9424f6f1",
   "metadata": {},
   "source": [
    "## Shearing an Ellipse"
   ]
  },
  {
   "cell_type": "code",
   "execution_count": null,
   "id": "8fd525fd",
   "metadata": {},
   "outputs": [],
   "source": [
    "s_y = sympy.symbols('s_y')\n",
    "a_sy,b_sy = sympy.symbols('a_sy b_sy')"
   ]
  },
  {
   "cell_type": "code",
   "execution_count": null,
   "id": "d2974cbb",
   "metadata": {},
   "outputs": [],
   "source": [
    "sy_matrix = sympy.Matrix([\n",
    "    [1, 0],\n",
    "    [s_y, 1]\n",
    "])\n",
    "sy_matrix"
   ]
  },
  {
   "cell_type": "code",
   "execution_count": null,
   "id": "9a23f01d",
   "metadata": {},
   "outputs": [],
   "source": [
    "sheared_pos_vec = sy_matrix * pos_vec\n",
    "sheared_pos_vec"
   ]
  },
  {
   "cell_type": "code",
   "execution_count": null,
   "id": "c0ce6fec",
   "metadata": {},
   "outputs": [],
   "source": [
    "sheared_ellipse_eq = ellipse_eq.subs(list(zip(pos_vec, sheared_pos_vec))+[(a,a_sy),(b,b_sy)], simultaneous=True)\n",
    "sheared_ellipse_eq"
   ]
  },
  {
   "cell_type": "code",
   "execution_count": null,
   "id": "153fba7e",
   "metadata": {},
   "outputs": [],
   "source": [
    "sheared_ellipse_eq = sheared_ellipse_eq.expand()\n",
    "sheared_ellipse_eq"
   ]
  },
  {
   "cell_type": "markdown",
   "id": "05277cff",
   "metadata": {},
   "source": [
    "## Rotating an Ellipse"
   ]
  },
  {
   "cell_type": "code",
   "execution_count": null,
   "id": "76e46472",
   "metadata": {},
   "outputs": [],
   "source": [
    "theta = sympy.symbols('theta')\n",
    "a_rot,b_rot = sympy.symbols('a_rot b_rot')"
   ]
  },
  {
   "cell_type": "code",
   "execution_count": null,
   "id": "12443e0b",
   "metadata": {},
   "outputs": [],
   "source": [
    "rot_matrix = sympy.Matrix([\n",
    "    [sympy.cos(theta), sympy.sin(theta)],\n",
    "    [-sympy.sin(theta), sympy.cos(theta)]\n",
    "])\n",
    "rot_matrix"
   ]
  },
  {
   "cell_type": "code",
   "execution_count": null,
   "id": "3ce8e4a1",
   "metadata": {},
   "outputs": [],
   "source": [
    "rot_pos_vec = rot_matrix * pos_vec\n",
    "rot_pos_vec"
   ]
  },
  {
   "cell_type": "code",
   "execution_count": null,
   "id": "fa5f8baa",
   "metadata": {},
   "outputs": [],
   "source": [
    "rot_ellipse_eq = ellipse_eq.subs(list(zip(pos_vec, rot_pos_vec))+[(a,a_rot),(b,b_rot)], simultaneous=True)\n",
    "rot_ellipse_eq"
   ]
  },
  {
   "cell_type": "code",
   "execution_count": null,
   "id": "ad053c61",
   "metadata": {},
   "outputs": [],
   "source": [
    "rot_ellipse_eq = rot_ellipse_eq.expand()\n",
    "rot_ellipse_eq"
   ]
  },
  {
   "cell_type": "markdown",
   "id": "5a3e92de",
   "metadata": {},
   "source": [
    "## Coefficient Matching"
   ]
  },
  {
   "cell_type": "code",
   "execution_count": null,
   "id": "75296ed9",
   "metadata": {},
   "outputs": [],
   "source": [
    "rot_coeffs = sympy.Poly(rot_ellipse_eq, x,y).coeffs()\n",
    "rot_coeffs"
   ]
  },
  {
   "cell_type": "code",
   "execution_count": null,
   "id": "71a43940",
   "metadata": {},
   "outputs": [],
   "source": [
    "sheared_coeffs = sympy.Poly(sheared_ellipse_eq, x,y).coeffs()\n",
    "#sheared_coeffs = [eq.subs([(a_sy,b_sy)]).simplify() for eq in sheared_coeffs]\n",
    "sheared_coeffs"
   ]
  },
  {
   "cell_type": "markdown",
   "id": "4b2d7a1e",
   "metadata": {},
   "source": [
    "This fails to find an analytic answer (equations must be too non-linear)"
   ]
  },
  {
   "cell_type": "code",
   "execution_count": null,
   "id": "9bec7579",
   "metadata": {},
   "outputs": [],
   "source": [
    "eqs = [sympy.Eq(l,r) for l,r in zip(rot_coeffs,sheared_coeffs)]\n",
    "sympy.solve(eqs, theta, a_rot, b_rot)"
   ]
  },
  {
   "cell_type": "markdown",
   "id": "275b7902",
   "metadata": {},
   "source": [
    "Thankfully we can still find numerical solutions"
   ]
  },
  {
   "cell_type": "code",
   "execution_count": null,
   "id": "4663f979",
   "metadata": {},
   "outputs": [],
   "source": [
    "subbed_sheared_coeffs = [ eq.subs([\n",
    "    (a_sy, 1),\n",
    "    (b_sy, 2),\n",
    "    (s_y, 1/2)\n",
    "]) for eq in sheared_coeffs]\n",
    "eqs = [sympy.Eq(l,r) for l,r in zip(rot_coeffs[:-1],subbed_sheared_coeffs[:-1])]\n",
    "\n",
    "sympy.nsolve(eqs, (theta, a_rot, b_rot), (0.5,1,1.1))"
   ]
  },
  {
   "cell_type": "code",
   "execution_count": null,
   "id": "8b20d1f0",
   "metadata": {},
   "outputs": [],
   "source": []
  },
  {
   "cell_type": "code",
   "execution_count": null,
   "id": "8439c8c0",
   "metadata": {},
   "outputs": [],
   "source": []
  }
 ],
 "metadata": {
  "kernelspec": {
   "display_name": "Python 3",
   "language": "python",
   "name": "python3"
  },
  "language_info": {
   "codemirror_mode": {
    "name": "ipython",
    "version": 3
   },
   "file_extension": ".py",
   "mimetype": "text/x-python",
   "name": "python",
   "nbconvert_exporter": "python",
   "pygments_lexer": "ipython3",
   "version": "3.9.1"
  }
 },
 "nbformat": 4,
 "nbformat_minor": 5
}
